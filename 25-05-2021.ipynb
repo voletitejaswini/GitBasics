{
 "cells": [
  {
   "cell_type": "markdown",
   "id": "46513f10",
   "metadata": {},
   "source": [
    "# Markdown Format"
   ]
  },
  {
   "cell_type": "markdown",
   "id": "0f367eaf",
   "metadata": {},
   "source": [
    "# Heading-1\n",
    "## Heading-2\n",
    "### Heading-3\n",
    "#### Heading-4\n",
    "##### Heading-5\n",
    "###### Heading-6\n",
    "####### Heading-7"
   ]
  },
  {
   "cell_type": "markdown",
   "id": "d580c10e",
   "metadata": {},
   "source": [
    "# Python Basics"
   ]
  },
  {
   "cell_type": "markdown",
   "id": "d181f643",
   "metadata": {},
   "source": [
    "## Variable\n",
    "    - To store a value.\n",
    "    - To acess the value in different functions,methods.\n",
    "    - To change value."
   ]
  },
  {
   "cell_type": "code",
   "execution_count": 1,
   "id": "aa1ec4f5",
   "metadata": {},
   "outputs": [],
   "source": [
    "a=10"
   ]
  },
  {
   "cell_type": "code",
   "execution_count": 2,
   "id": "5b442e5b",
   "metadata": {},
   "outputs": [
    {
     "data": {
      "text/plain": [
       "10"
      ]
     },
     "execution_count": 2,
     "metadata": {},
     "output_type": "execute_result"
    }
   ],
   "source": [
    "a"
   ]
  },
  {
   "cell_type": "code",
   "execution_count": 3,
   "id": "0a68e709",
   "metadata": {},
   "outputs": [],
   "source": [
    "b=20"
   ]
  },
  {
   "cell_type": "code",
   "execution_count": 4,
   "id": "1d851cb7",
   "metadata": {},
   "outputs": [
    {
     "data": {
      "text/plain": [
       "20"
      ]
     },
     "execution_count": 4,
     "metadata": {},
     "output_type": "execute_result"
    }
   ],
   "source": [
    "b"
   ]
  },
  {
   "cell_type": "code",
   "execution_count": 6,
   "id": "d29fb8bc",
   "metadata": {},
   "outputs": [
    {
     "data": {
      "text/plain": [
       "(200, 'rajesh')"
      ]
     },
     "execution_count": 6,
     "metadata": {},
     "output_type": "execute_result"
    }
   ],
   "source": [
    "a = 200\n",
    "b = 'rajesh'\n",
    "a,b"
   ]
  },
  {
   "cell_type": "code",
   "execution_count": 8,
   "id": "414f5621",
   "metadata": {},
   "outputs": [
    {
     "name": "stdout",
     "output_type": "stream",
     "text": [
      "200 rajesh\n",
      "rajesh 200\n"
     ]
    }
   ],
   "source": [
    "print(a,b)\n",
    "print(b,a)"
   ]
  },
  {
   "cell_type": "markdown",
   "id": "140559cb",
   "metadata": {},
   "source": [
    "## Data Types\n",
    "    - Int -> only numbers\n",
    "    - Float -> decimal points\n",
    "    - String -> either with ' or \""
   ]
  },
  {
   "cell_type": "code",
   "execution_count": 9,
   "id": "3d585463",
   "metadata": {},
   "outputs": [],
   "source": [
    "c,t = 23.00,'tarun'"
   ]
  },
  {
   "cell_type": "code",
   "execution_count": 10,
   "id": "eb0e3663",
   "metadata": {},
   "outputs": [
    {
     "name": "stdout",
     "output_type": "stream",
     "text": [
      "23.0 tarun\n"
     ]
    }
   ],
   "source": [
    "print(c,t)"
   ]
  },
  {
   "cell_type": "code",
   "execution_count": 11,
   "id": "92c2ea56",
   "metadata": {},
   "outputs": [
    {
     "data": {
      "text/plain": [
       "23.0"
      ]
     },
     "execution_count": 11,
     "metadata": {},
     "output_type": "execute_result"
    }
   ],
   "source": [
    "c"
   ]
  },
  {
   "cell_type": "markdown",
   "id": "bb74d06f",
   "metadata": {},
   "source": [
    "## Type\n",
    "   - To know the data type for that value\n",
    "   - type(variablename,datastructure)"
   ]
  },
  {
   "cell_type": "code",
   "execution_count": 12,
   "id": "a85f1284",
   "metadata": {},
   "outputs": [
    {
     "data": {
      "text/plain": [
       "float"
      ]
     },
     "execution_count": 12,
     "metadata": {},
     "output_type": "execute_result"
    }
   ],
   "source": [
    "type(c)"
   ]
  },
  {
   "cell_type": "code",
   "execution_count": 13,
   "id": "3c604571",
   "metadata": {},
   "outputs": [
    {
     "data": {
      "text/plain": [
       "'kiran'"
      ]
     },
     "execution_count": 13,
     "metadata": {},
     "output_type": "execute_result"
    }
   ],
   "source": [
    "g = 'kiran'\n",
    "g"
   ]
  },
  {
   "cell_type": "code",
   "execution_count": 14,
   "id": "4fb41a6d",
   "metadata": {},
   "outputs": [
    {
     "data": {
      "text/plain": [
       "str"
      ]
     },
     "execution_count": 14,
     "metadata": {},
     "output_type": "execute_result"
    }
   ],
   "source": [
    "type(g)"
   ]
  },
  {
   "cell_type": "code",
   "execution_count": 15,
   "id": "61007a9a",
   "metadata": {},
   "outputs": [
    {
     "name": "stdout",
     "output_type": "stream",
     "text": [
      "<class 'str'>\n"
     ]
    }
   ],
   "source": [
    "print(type(g))"
   ]
  },
  {
   "cell_type": "markdown",
   "id": "d22df6f9",
   "metadata": {},
   "source": [
    "## Input()\n",
    "   - By defalut it will be considered as a string value\n",
    "   - print(),read()"
   ]
  },
  {
   "cell_type": "code",
   "execution_count": 4,
   "id": "a7d393c4",
   "metadata": {},
   "outputs": [
    {
     "name": "stdout",
     "output_type": "stream",
     "text": [
      "64\n",
      "64 <class 'str'>\n"
     ]
    }
   ],
   "source": [
    "a = input()\n",
    "print(a,type(a))"
   ]
  },
  {
   "cell_type": "code",
   "execution_count": 2,
   "id": "75ef7db1",
   "metadata": {},
   "outputs": [],
   "source": [
    "d=20"
   ]
  },
  {
   "cell_type": "code",
   "execution_count": 3,
   "id": "6d9def7c",
   "metadata": {},
   "outputs": [
    {
     "data": {
      "text/plain": [
       "20"
      ]
     },
     "execution_count": 3,
     "metadata": {},
     "output_type": "execute_result"
    }
   ],
   "source": [
    "d"
   ]
  },
  {
   "cell_type": "code",
   "execution_count": 5,
   "id": "8c38bd55",
   "metadata": {},
   "outputs": [
    {
     "name": "stdout",
     "output_type": "stream",
     "text": [
      "Enter a value: 21\n",
      "21 <class 'str'>\n"
     ]
    }
   ],
   "source": [
    "t = input(\"Enter a value: \")\n",
    "print(t,type(t))"
   ]
  },
  {
   "cell_type": "markdown",
   "id": "be797aeb",
   "metadata": {},
   "source": [
    "# Type Casting\n",
    "  - Converting one data into another data type\n",
    "  - int(),str(),float() "
   ]
  },
  {
   "cell_type": "code",
   "execution_count": 7,
   "id": "8445f4a3",
   "metadata": {},
   "outputs": [
    {
     "name": "stdout",
     "output_type": "stream",
     "text": [
      "Enter only integer values: 34\n",
      "34 <class 'int'>\n"
     ]
    }
   ],
   "source": [
    "p = int(input(\"Enter only integer values: \"))\n",
    "print(p,type(p))"
   ]
  },
  {
   "cell_type": "code",
   "execution_count": 8,
   "id": "ae16afb1",
   "metadata": {},
   "outputs": [
    {
     "name": "stdout",
     "output_type": "stream",
     "text": [
      "Enter float values: 26\n",
      "26.0 <class 'float'>\n"
     ]
    }
   ],
   "source": [
    "m = float(input(\"Enter float values: \"))\n",
    "print(m,type(m))"
   ]
  },
  {
   "cell_type": "code",
   "execution_count": 14,
   "id": "725c94dd",
   "metadata": {},
   "outputs": [
    {
     "name": "stdout",
     "output_type": "stream",
     "text": [
      "Enter integer values: 48\n",
      "Enter float values: 45.0218\n",
      "Conversion of int value is:  48.0\n",
      "Conversion of float value is:  45\n",
      "Both cases in string is:''48'' ''45.0218'\n"
     ]
    }
   ],
   "source": [
    "q = int(input(\"Enter integer values: \"))\n",
    "k = float(input(\"Enter float values: \"))\n",
    "print(\"Conversion of int value is: \",float(q))\n",
    "print(\"Conversion of float value is: \",int(k))\n",
    "print(\"Both cases in string is:\"+\"''\"+str(q)+\"''\"+\" \"+\"''\"+str(k)+\"'\")"
   ]
  },
  {
   "cell_type": "code",
   "execution_count": null,
   "id": "1664d387",
   "metadata": {},
   "outputs": [],
   "source": []
  }
 ],
 "metadata": {
  "kernelspec": {
   "display_name": "Python 3",
   "language": "python",
   "name": "python3"
  },
  "language_info": {
   "codemirror_mode": {
    "name": "ipython",
    "version": 3
   },
   "file_extension": ".py",
   "mimetype": "text/x-python",
   "name": "python",
   "nbconvert_exporter": "python",
   "pygments_lexer": "ipython3",
   "version": "3.7.6"
  }
 },
 "nbformat": 4,
 "nbformat_minor": 5
}
