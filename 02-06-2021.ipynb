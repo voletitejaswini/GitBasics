{
 "cells": [
  {
   "cell_type": "markdown",
   "id": "c7d734a2",
   "metadata": {},
   "source": [
    "# Strings"
   ]
  },
  {
   "cell_type": "code",
   "execution_count": 5,
   "id": "3ad2a09c",
   "metadata": {},
   "outputs": [
    {
     "name": "stdout",
     "output_type": "stream",
     "text": [
      "apssdc internship\n",
      "c\n",
      "h\n",
      "sdc internship\n",
      "apssdc int\n",
      "c inter\n",
      "pssdc inter\n",
      "terns\n",
      "e\n"
     ]
    }
   ],
   "source": [
    "n = 'apssdc internship'\n",
    "print(n)\n",
    "print(n[5])\n",
    "print(n[-3])\n",
    "print(n[3:])\n",
    "print(n[:10])\n",
    "print(n[5:12])\n",
    "print(n[1:-5])\n",
    "print(n[9:-3])\n",
    "print(n[-7:11])"
   ]
  },
  {
   "cell_type": "code",
   "execution_count": 8,
   "id": "eb3411c3",
   "metadata": {},
   "outputs": [
    {
     "name": "stdout",
     "output_type": "stream",
     "text": [
      "apssdc internship\n",
      "apssdc internship\n",
      "asd nenhp\n",
      "phnen dsa\n"
     ]
    }
   ],
   "source": [
    "n = 'apssdc internship'\n",
    "print(n)\n",
    "print(n[::])\n",
    "print(n[::2])\n",
    "print(n[::-2])"
   ]
  },
  {
   "cell_type": "code",
   "execution_count": 9,
   "id": "fd8488c8",
   "metadata": {},
   "outputs": [
    {
     "name": "stdout",
     "output_type": "stream",
     "text": [
      "26867123048903478903676878953167 <class 'str'>\n",
      "76135987867630987430984032176862 <class 'int'>\n"
     ]
    }
   ],
   "source": [
    "m=str(26867123048903478903676878953167)\n",
    "print(m,type(m))\n",
    "k=int(m[::-1])\n",
    "print(k,type(k))\n"
   ]
  },
  {
   "cell_type": "code",
   "execution_count": 11,
   "id": "70960cea",
   "metadata": {},
   "outputs": [
    {
     "name": "stdout",
     "output_type": "stream",
     "text": [
      "apssdc internship\n",
      "ap ssdc internsh ip\n"
     ]
    }
   ],
   "source": [
    "n = input()\n",
    "print(n[0:2]+\" \"+n[2:-2]+\" \"+n[-2:])"
   ]
  },
  {
   "cell_type": "code",
   "execution_count": 12,
   "id": "5319c956",
   "metadata": {},
   "outputs": [
    {
     "name": "stdout",
     "output_type": "stream",
     "text": [
      "['__add__', '__class__', '__contains__', '__delattr__', '__dir__', '__doc__', '__eq__', '__format__', '__ge__', '__getattribute__', '__getitem__', '__getnewargs__', '__gt__', '__hash__', '__init__', '__init_subclass__', '__iter__', '__le__', '__len__', '__lt__', '__mod__', '__mul__', '__ne__', '__new__', '__reduce__', '__reduce_ex__', '__repr__', '__rmod__', '__rmul__', '__setattr__', '__sizeof__', '__str__', '__subclasshook__', 'capitalize', 'casefold', 'center', 'count', 'encode', 'endswith', 'expandtabs', 'find', 'format', 'format_map', 'index', 'isalnum', 'isalpha', 'isascii', 'isdecimal', 'isdigit', 'isidentifier', 'islower', 'isnumeric', 'isprintable', 'isspace', 'istitle', 'isupper', 'join', 'ljust', 'lower', 'lstrip', 'maketrans', 'partition', 'replace', 'rfind', 'rindex', 'rjust', 'rpartition', 'rsplit', 'rstrip', 'split', 'splitlines', 'startswith', 'strip', 'swapcase', 'title', 'translate', 'upper', 'zfill']\n"
     ]
    }
   ],
   "source": [
    "print(dir(str))"
   ]
  },
  {
   "cell_type": "code",
   "execution_count": 22,
   "id": "1892e440",
   "metadata": {},
   "outputs": [
    {
     "name": "stdout",
     "output_type": "stream",
     "text": [
      "this is a internship program\n",
      "This is a internship program\n",
      "this is a internship program\n",
      "This Is A Internship Program\n",
      "THIS IS A INTERNSHIP PROGRAM\n",
      "False\n",
      "True\n",
      "THIS IS A INTERNSHIP PROGRAM\n",
      "this is a internship program\n",
      "['this', 'is', 'a', 'internship', 'program']\n",
      "['th', 's ', 's a ', 'nternsh', 'p program']\n",
      "4\n",
      "2\n",
      "-1\n",
      "18\n",
      "-1\n",
      "19\n"
     ]
    }
   ],
   "source": [
    "b=\"this is a internship program\"\n",
    "print(b)\n",
    "print(b.capitalize())\n",
    "print(b.casefold())\n",
    "print(b.title())\n",
    "print(b.swapcase())\n",
    "print(b.startswith('a'))\n",
    "print(b.endswith('m'))\n",
    "print(b.upper())\n",
    "print(b.lower())\n",
    "print(b.split())\n",
    "print(b.split('i'))\n",
    "print(b.count('i'))\n",
    "print(b.find('i'))\n",
    "print(b.find('z'))\n",
    "print(b.rfind('i'))\n",
    "print(b.rfind('z'))\n",
    "print(b.index('p'))"
   ]
  },
  {
   "cell_type": "code",
   "execution_count": 30,
   "id": "1da67978",
   "metadata": {},
   "outputs": [
    {
     "name": "stdout",
     "output_type": "stream",
     "text": [
      "sample\n",
      "ramu\n",
      "sample\n",
      "ramu\n",
      "sample                                            \n",
      "       ramu                                       \n",
      "                                                           sample     \n",
      "                                                                  ramu\n",
      "0000000000000000000sample     \n"
     ]
    }
   ],
   "source": [
    "d = \"sample     \"\n",
    "e = \"       ramu\"\n",
    "print(d.strip())\n",
    "print(e.strip())\n",
    "print(d.rstrip())\n",
    "print(e.lstrip())\n",
    "print(d.ljust(50))\n",
    "print(e.ljust(50))\n",
    "print(d.rjust(70))\n",
    "print(e.rjust(70))\n",
    "print(d.zfill(30))"
   ]
  },
  {
   "cell_type": "code",
   "execution_count": null,
   "id": "3a8e9af9",
   "metadata": {},
   "outputs": [],
   "source": []
  }
 ],
 "metadata": {
  "kernelspec": {
   "display_name": "Python 3",
   "language": "python",
   "name": "python3"
  },
  "language_info": {
   "codemirror_mode": {
    "name": "ipython",
    "version": 3
   },
   "file_extension": ".py",
   "mimetype": "text/x-python",
   "name": "python",
   "nbconvert_exporter": "python",
   "pygments_lexer": "ipython3",
   "version": "3.7.6"
  }
 },
 "nbformat": 4,
 "nbformat_minor": 5
}
