{
 "cells": [
  {
   "cell_type": "markdown",
   "id": "8715554a",
   "metadata": {},
   "source": [
    "# Git Commands\n",
    "\n",
    "-> git init\n",
    "\n",
    "ls => list to display all files or folder side by side.\n",
    "\n",
    "ls -a => displays all files or folders including hidden file or folder.\n",
    "\n",
    "ls -l => displays all files or folders in column format.\n",
    "\n",
    "ls -m =>  displays all files or folders with comma seperated.\n",
    "\n",
    "Single file creation :\n",
    "    - touch filename.extension\n",
    "    \n",
    "Multiple file creation :\n",
    "    - touch filename1.extension filename2.extension\n",
    "    \n",
    "Removing a single file :\n",
    "    - rm filename.extension\n",
    "    \n",
    "Removing Multiple files :\n",
    "    - rm filename1.extension filename2.extension"
   ]
  },
  {
   "cell_type": "markdown",
   "id": "f0923b3f",
   "metadata": {},
   "source": [
    "# Git Commands\n",
    "\n",
    "\n",
    "git init\n",
    "git config user.name \"ur name\"\n",
    "git config user.email \"ur mail id\"\n",
    "git remote add \"remotename\" \"branchname[master]\"\n"
   ]
  }
 ],
 "metadata": {
  "kernelspec": {
   "display_name": "Python 3",
   "language": "python",
   "name": "python3"
  },
  "language_info": {
   "codemirror_mode": {
    "name": "ipython",
    "version": 3
   },
   "file_extension": ".py",
   "mimetype": "text/x-python",
   "name": "python",
   "nbconvert_exporter": "python",
   "pygments_lexer": "ipython3",
   "version": "3.7.6"
  }
 },
 "nbformat": 4,
 "nbformat_minor": 5
}
