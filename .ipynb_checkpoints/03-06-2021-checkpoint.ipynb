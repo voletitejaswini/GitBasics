{
 "cells": [
  {
   "cell_type": "markdown",
   "id": "fd9c584b",
   "metadata": {},
   "source": [
    "# Set"
   ]
  },
  {
   "cell_type": "code",
   "execution_count": 1,
   "id": "3d24c8fc",
   "metadata": {},
   "outputs": [
    {
     "name": "stdout",
     "output_type": "stream",
     "text": [
      "['__and__', '__class__', '__contains__', '__delattr__', '__dir__', '__doc__', '__eq__', '__format__', '__ge__', '__getattribute__', '__gt__', '__hash__', '__iand__', '__init__', '__init_subclass__', '__ior__', '__isub__', '__iter__', '__ixor__', '__le__', '__len__', '__lt__', '__ne__', '__new__', '__or__', '__rand__', '__reduce__', '__reduce_ex__', '__repr__', '__ror__', '__rsub__', '__rxor__', '__setattr__', '__sizeof__', '__str__', '__sub__', '__subclasshook__', '__xor__', 'add', 'clear', 'copy', 'difference', 'difference_update', 'discard', 'intersection', 'intersection_update', 'isdisjoint', 'issubset', 'issuperset', 'pop', 'remove', 'symmetric_difference', 'symmetric_difference_update', 'union', 'update']\n"
     ]
    }
   ],
   "source": [
    "print(dir(set))"
   ]
  },
  {
   "cell_type": "code",
   "execution_count": 4,
   "id": "f3693fdc",
   "metadata": {},
   "outputs": [
    {
     "name": "stdout",
     "output_type": "stream",
     "text": [
      "{26, 'tskg', 'vvt'}\n"
     ]
    }
   ],
   "source": [
    "s={34,26,'tskg','vvt'}\n",
    "s.pop()\n",
    "print(s)"
   ]
  },
  {
   "cell_type": "code",
   "execution_count": 5,
   "id": "277377fe",
   "metadata": {},
   "outputs": [
    {
     "name": "stdout",
     "output_type": "stream",
     "text": [
      "{34, 26, 'vvt'}\n"
     ]
    }
   ],
   "source": [
    "s={34,26,'tskg','vvt'}\n",
    "s.remove('tskg')\n",
    "print(s)"
   ]
  },
  {
   "cell_type": "code",
   "execution_count": 6,
   "id": "e76c4f42",
   "metadata": {},
   "outputs": [
    {
     "name": "stdout",
     "output_type": "stream",
     "text": [
      "{34, 8, 18, 21, 26}\n",
      "{3, 5, 15}\n",
      "{34, 18, 3, 21, 5, 8, 26, 15}\n",
      "{34, 8, 18, 21, 26}\n",
      "{3, 5, 15}\n"
     ]
    }
   ],
   "source": [
    "s1={34,21,26,8,18}\n",
    "s2={5,15,3}\n",
    "print(s1)\n",
    "print(s2)\n",
    "print(s1.union(s2))\n",
    "print(s1)\n",
    "print(s2)"
   ]
  },
  {
   "cell_type": "markdown",
   "id": "9da15ef8",
   "metadata": {},
   "source": [
    "# Dictionary"
   ]
  },
  {
   "cell_type": "code",
   "execution_count": 7,
   "id": "8335ca7d",
   "metadata": {},
   "outputs": [
    {
     "name": "stdout",
     "output_type": "stream",
     "text": [
      "{'name': ('sou', 'gaya', 'teju'), 'age': [19, 19, 18], 'id': [21, 26, 34]}\n",
      "<class 'dict'>\n"
     ]
    }
   ],
   "source": [
    "t={'name':(\"sou\",\"gaya\",\"teju\"),'age':[19,19,18],'id':[21,26,34]}\n",
    "print(t)\n",
    "print(type(t))"
   ]
  },
  {
   "cell_type": "code",
   "execution_count": 8,
   "id": "31c5943c",
   "metadata": {},
   "outputs": [
    {
     "name": "stdout",
     "output_type": "stream",
     "text": [
      "['__class__', '__contains__', '__delattr__', '__delitem__', '__dir__', '__doc__', '__eq__', '__format__', '__ge__', '__getattribute__', '__getitem__', '__gt__', '__hash__', '__init__', '__init_subclass__', '__iter__', '__le__', '__len__', '__lt__', '__ne__', '__new__', '__reduce__', '__reduce_ex__', '__repr__', '__setattr__', '__setitem__', '__sizeof__', '__str__', '__subclasshook__', 'clear', 'copy', 'fromkeys', 'get', 'items', 'keys', 'pop', 'popitem', 'setdefault', 'update', 'values']\n"
     ]
    }
   ],
   "source": [
    "print(dir(dict))"
   ]
  },
  {
   "cell_type": "code",
   "execution_count": 9,
   "id": "185ad694",
   "metadata": {},
   "outputs": [
    {
     "name": "stdout",
     "output_type": "stream",
     "text": [
      "dict_keys(['name', 'age', 'id'])\n"
     ]
    }
   ],
   "source": [
    "print(t.keys())"
   ]
  },
  {
   "cell_type": "code",
   "execution_count": 10,
   "id": "cb423a18",
   "metadata": {
    "scrolled": true
   },
   "outputs": [
    {
     "name": "stdout",
     "output_type": "stream",
     "text": [
      "dict_values([('sou', 'gaya', 'teju'), [19, 19, 18], [21, 26, 34]])\n"
     ]
    }
   ],
   "source": [
    "print(t.values())"
   ]
  },
  {
   "cell_type": "code",
   "execution_count": 2,
   "id": "a24032cc",
   "metadata": {},
   "outputs": [
    {
     "name": "stdout",
     "output_type": "stream",
     "text": [
      "dict_items([('name', ('sou', 'gaya', 'teju')), ('age', [19, 19, 18]), ('id', [21, 26, 34])])\n"
     ]
    }
   ],
   "source": [
    "t={'name':(\"sou\",\"gaya\",\"teju\"),'age':[19,19,18],'id':[21,26,34]}\n",
    "print(t.items())"
   ]
  },
  {
   "cell_type": "code",
   "execution_count": 5,
   "id": "32753570",
   "metadata": {},
   "outputs": [
    {
     "name": "stdout",
     "output_type": "stream",
     "text": [
      "{'name': ('sou', 'gaya', 'teju'), 'age': [19, 19, 18], 'id': [21, 26, 34]}\n",
      "[19, 19, 18]\n",
      "{'name': ('sou', 'gaya', 'teju'), 'id': [21, 26, 34]}\n"
     ]
    }
   ],
   "source": [
    "t={'name':(\"sou\",\"gaya\",\"teju\"),'age':[19,19,18],'id':[21,26,34]}\n",
    "print(t)\n",
    "print(t.pop('age'))\n",
    "print(t)"
   ]
  },
  {
   "cell_type": "code",
   "execution_count": 7,
   "id": "134be584",
   "metadata": {},
   "outputs": [
    {
     "name": "stdout",
     "output_type": "stream",
     "text": [
      "{'name': ('sou', 'gaya', 'teju'), 'age': [19, 19, 18], 'id': [21, 26, 34]}\n",
      "('id', [21, 26, 34])\n",
      "{'name': ('sou', 'gaya', 'teju'), 'age': [19, 19, 18]}\n"
     ]
    }
   ],
   "source": [
    "t={'name':(\"sou\",\"gaya\",\"teju\"),'age':[19,19,18],'id':[21,26,34]}\n",
    "print(t)\n",
    "print(t.popitem())\n",
    "print(t)"
   ]
  },
  {
   "cell_type": "code",
   "execution_count": null,
   "id": "3235c660",
   "metadata": {},
   "outputs": [],
   "source": []
  }
 ],
 "metadata": {
  "kernelspec": {
   "display_name": "Python 3",
   "language": "python",
   "name": "python3"
  },
  "language_info": {
   "codemirror_mode": {
    "name": "ipython",
    "version": 3
   },
   "file_extension": ".py",
   "mimetype": "text/x-python",
   "name": "python",
   "nbconvert_exporter": "python",
   "pygments_lexer": "ipython3",
   "version": "3.7.6"
  }
 },
 "nbformat": 4,
 "nbformat_minor": 5
}
