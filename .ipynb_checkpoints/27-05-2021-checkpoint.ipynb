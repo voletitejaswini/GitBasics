{
 "cells": [
  {
   "cell_type": "code",
   "execution_count": 2,
   "id": "818cfa25",
   "metadata": {},
   "outputs": [
    {
     "name": "stdout",
     "output_type": "stream",
     "text": [
      "10\n",
      "19KQ1A0500\n",
      "19KQ1A0501\n",
      "19KQ1A0502\n",
      "19KQ1A0503\n",
      "19KQ1A0504\n",
      "19KQ1A0505\n",
      "19KQ1A0506\n",
      "19KQ1A0507\n",
      "19KQ1A0508\n",
      "19KQ1A0509\n"
     ]
    }
   ],
   "source": [
    "n = int(input())\n",
    "for j in range(n):\n",
    "    print(\"19KQ1A05{:02}\".format(j))"
   ]
  },
  {
   "cell_type": "markdown",
   "id": "e2cab3f9",
   "metadata": {},
   "source": [
    "## While -> Unknown ranges,known ranges\n",
    "\n",
    "Syntax:\n",
    "    \n",
    "    variable init\n",
    "    while (condition):\n",
    "        //stmnt\n",
    "        //inct/decr"
   ]
  },
  {
   "cell_type": "code",
   "execution_count": 4,
   "id": "1cd54a5f",
   "metadata": {},
   "outputs": [
    {
     "name": "stdout",
     "output_type": "stream",
     "text": [
      "20\n",
      "20 19 18 17 16 15 14 13 12 11 "
     ]
    }
   ],
   "source": [
    "n = int(input())\n",
    "while n!=10:\n",
    "    print(n,end=\" \")\n",
    "    n=n-1"
   ]
  },
  {
   "cell_type": "code",
   "execution_count": 1,
   "id": "5e091c14",
   "metadata": {},
   "outputs": [
    {
     "name": "stdout",
     "output_type": "stream",
     "text": [
      "20\n",
      "1 2 3 4 5 6 7 8 9 10 11 12 13 14 15 16 17 18 19 "
     ]
    }
   ],
   "source": [
    "m = int(input())\n",
    "i = 1\n",
    "while m!=i:\n",
    "    print(i,end=\" \")\n",
    "    i=i+1"
   ]
  },
  {
   "cell_type": "code",
   "execution_count": 2,
   "id": "ba4b5750",
   "metadata": {},
   "outputs": [
    {
     "name": "stdout",
     "output_type": "stream",
     "text": [
      "1259\n",
      "Given number is: 1259\n",
      " Reverse of a number is: 9521\n",
      " Given number is 1259 and its reverse is: 9521\n"
     ]
    }
   ],
   "source": [
    "n = int(input())\n",
    "r=0\n",
    "p=n\n",
    "while n!=0:\n",
    "    r=r*10+n%10\n",
    "    n//=10\n",
    "print(\"Given number is: {}\\n Reverse of a number is: {}\\n Given number is {} and its reverse is: {}\".format(p,r,p,r))\n",
    "\n"
   ]
  },
  {
   "cell_type": "markdown",
   "id": "b3fee441",
   "metadata": {},
   "source": [
    "# Jumping Statements\n",
    "\n",
    " -  break -> exit\n",
    " -  Continue -> skip\n",
    " -  pass -> skip nothing will be printed\n",
    " -  return -> values to be sent for functions"
   ]
  },
  {
   "cell_type": "code",
   "execution_count": 3,
   "id": "dad88bd1",
   "metadata": {},
   "outputs": [
    {
     "name": "stdout",
     "output_type": "stream",
     "text": [
      "10\n",
      "0 1 2 3 4 5 6 7 8 9 "
     ]
    }
   ],
   "source": [
    "n= int(input())\n",
    "for k in range(n):\n",
    "    print(k,end=\" \")"
   ]
  },
  {
   "cell_type": "code",
   "execution_count": 4,
   "id": "66c51fc7",
   "metadata": {},
   "outputs": [
    {
     "name": "stdout",
     "output_type": "stream",
     "text": [
      "100\n",
      "0 1 2 3 4 \n",
      " 5\n"
     ]
    }
   ],
   "source": [
    "n= int(input())\n",
    "for k in range(n):\n",
    "    if k==5:\n",
    "        break\n",
    "    else:\n",
    "        print(k,end=\" \")\n",
    "print(\"\\n\",k)        "
   ]
  },
  {
   "cell_type": "code",
   "execution_count": 5,
   "id": "45cfd188",
   "metadata": {},
   "outputs": [
    {
     "name": "stdout",
     "output_type": "stream",
     "text": [
      "20\n",
      "0 1 2 3 4 6 7 8 9 10 11 12 13 14 15 16 17 18 19 \n",
      " 19\n"
     ]
    }
   ],
   "source": [
    "n= int(input())\n",
    "for k in range(n):\n",
    "    if k==5:\n",
    "        continue\n",
    "    else:\n",
    "        print(k,end=\" \")\n",
    "print(\"\\n\",k)        "
   ]
  },
  {
   "cell_type": "code",
   "execution_count": 6,
   "id": "a2f738cd",
   "metadata": {},
   "outputs": [
    {
     "name": "stdout",
     "output_type": "stream",
     "text": [
      "25\n",
      "0 1 2 3 4 5 6 7 8 9 11 12 13 14 15 16 17 18 19 20 21 22 23 24 \n",
      " 24\n"
     ]
    }
   ],
   "source": [
    "n= int(input())\n",
    "for k in range(n):\n",
    "    if k==10:\n",
    "        pass\n",
    "    else:\n",
    "        print(k,end=\" \")\n",
    "print(\"\\n\",k)        "
   ]
  },
  {
   "cell_type": "markdown",
   "id": "91d81406",
   "metadata": {},
   "source": [
    "# Inner Loops\n",
    "\n",
    "     Syntax:\n",
    "     \n",
    "         for i in range():\n",
    "             for j in range():\n",
    "                 if (conditional-n):\n",
    "                     //stmnts\n",
    "                 else:\n",
    "                     //stmnts\n",
    "             print(\"\\n\")       "
   ]
  },
  {
   "cell_type": "code",
   "execution_count": 7,
   "id": "b26b4bcc",
   "metadata": {},
   "outputs": [
    {
     "name": "stdout",
     "output_type": "stream",
     "text": [
      "01 ** 02 03 ** 04 05 ** 06 07 \n",
      "** 08 09 ** 10 11 ** 12 13 ** 14 \n",
      "15 ** 16 17 ** 18 19 ** 20 21 \n",
      "** 22 23 ** 24 25 ** 26 27 ** 28 \n",
      "29 ** 30 31 \n"
     ]
    }
   ],
   "source": [
    "a=1\n",
    "for i in range(1,6):\n",
    "    for j in range(1,8):\n",
    "        if a<=31:\n",
    "            if a%2==0:\n",
    "                print(\"**\",end=\" \")\n",
    "            print(\"{:02}\".format(a),end=\" \")\n",
    "        else:\n",
    "            break\n",
    "        a+=1\n",
    "    print(end=\"\\n\")     "
   ]
  },
  {
   "cell_type": "code",
   "execution_count": 9,
   "id": "6d03440c",
   "metadata": {},
   "outputs": [
    {
     "name": "stdout",
     "output_type": "stream",
     "text": [
      "[] ** () ** ## ** [] \n",
      "** () ## [] ** [] ** \n",
      "## ** [] ** [] ## () \n",
      "** [] ** ## ** () ** \n",
      "[] ## [] \n"
     ]
    }
   ],
   "source": [
    "a=1\n",
    "for i in range(1,6):\n",
    "    for j in range(1,8):\n",
    "        if a<=31:\n",
    "            if a%5==0:\n",
    "                print(\"##\",end=\" \")\n",
    "            elif a%2==0:\n",
    "                print(\"**\",end=\" \")\n",
    "            elif a%3==0:\n",
    "                print(\"()\",end=\" \")\n",
    "            else:\n",
    "                print(\"[]\",end=\" \")\n",
    "        else:\n",
    "            break\n",
    "        a+=1\n",
    "    print(end=\"\\n\")     "
   ]
  },
  {
   "cell_type": "code",
   "execution_count": 10,
   "id": "c2f7f296",
   "metadata": {},
   "outputs": [
    {
     "name": "stdout",
     "output_type": "stream",
     "text": [
      "[] ** || ** ## ** [] \n",
      "&& && && && && && && \n",
      "## ** || ** [] ## () \n",
      "** [] || ## ** () ** \n",
      "[] ## || \n"
     ]
    }
   ],
   "source": [
    "a=1\n",
    "for i in range(1,6):\n",
    "    for j in range(1,8):\n",
    "        if i == 2:\n",
    "            print(\"&&\",end=\" \")\n",
    "        elif j == 3:\n",
    "            print(\"||\",end=\" \")\n",
    "        elif a<=31:\n",
    "            if a%5==0:\n",
    "                print(\"##\",end=\" \")\n",
    "            elif a%2==0:\n",
    "                print(\"**\",end=\" \")\n",
    "            elif a%3==0:\n",
    "                print(\"()\",end=\" \")\n",
    "            else:\n",
    "                print(\"[]\",end=\" \")\n",
    "        else:\n",
    "            break\n",
    "        a+=1\n",
    "    print(end=\"\\n\")     "
   ]
  },
  {
   "cell_type": "code",
   "execution_count": null,
   "id": "dc4578f5",
   "metadata": {},
   "outputs": [],
   "source": []
  }
 ],
 "metadata": {
  "kernelspec": {
   "display_name": "Python 3",
   "language": "python",
   "name": "python3"
  },
  "language_info": {
   "codemirror_mode": {
    "name": "ipython",
    "version": 3
   },
   "file_extension": ".py",
   "mimetype": "text/x-python",
   "name": "python",
   "nbconvert_exporter": "python",
   "pygments_lexer": "ipython3",
   "version": "3.7.6"
  }
 },
 "nbformat": 4,
 "nbformat_minor": 5
}
