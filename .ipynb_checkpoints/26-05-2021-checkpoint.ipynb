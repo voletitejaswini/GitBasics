{
 "cells": [
  {
   "cell_type": "markdown",
   "id": "022c240b",
   "metadata": {},
   "source": [
    "### Hii Welcome 👍😉"
   ]
  },
  {
   "cell_type": "markdown",
   "id": "ba96dcca",
   "metadata": {},
   "source": [
    "## Output \n",
    "   - %\n",
    "   - , +\n",
    "   - .format"
   ]
  },
  {
   "cell_type": "code",
   "execution_count": 1,
   "id": "b4764fe0",
   "metadata": {},
   "outputs": [
    {
     "name": "stdout",
     "output_type": "stream",
     "text": [
      "Enter a value: 26\n",
      "Enter a name: tskg\n",
      "Entered number is: 26\n",
      "Entered Name is: tskg\n"
     ]
    }
   ],
   "source": [
    "n = int(input(\"Enter a value: \"))\n",
    "m = input(\"Enter a name: \")\n",
    "print(\"Entered number is: %d\"%n)\n",
    "print(\"Entered Name is: %s\"%m)"
   ]
  },
  {
   "cell_type": "code",
   "execution_count": 2,
   "id": "8b1a468c",
   "metadata": {},
   "outputs": [
    {
     "name": "stdout",
     "output_type": "stream",
     "text": [
      "Entered Number is: 26 and Entered Name is: tskg\n"
     ]
    }
   ],
   "source": [
    "print(\"Entered Number is: %d and Entered Name is: %s\"%(n,m))"
   ]
  },
  {
   "cell_type": "code",
   "execution_count": 3,
   "id": "cd1afd59",
   "metadata": {},
   "outputs": [
    {
     "name": "stdout",
     "output_type": "stream",
     "text": [
      "Entered Number is: 26 and Entered Name is: tskg\n",
      "Entered Number is: 26 and Entered Name is: tskg\n",
      "Entered Name is: tskg and Entered Number is: 26\n"
     ]
    }
   ],
   "source": [
    "print(\"Entered Number is: {} and Entered Name is: {}\".format(n,m))\n",
    "print(\"Entered Number is: {0} and Entered Name is: {1}\".format(n,m))\n",
    "print(\"Entered Name is: {1} and Entered Number is: {0}\".format(n,m))\n"
   ]
  },
  {
   "cell_type": "markdown",
   "id": "d2aa5fd3",
   "metadata": {},
   "source": [
    "## Operators:\n",
    "   - Arithmetic -> +,-,*,/,%,floor(// -> Exact integer), exponential(** => pow())\n",
    "   - Logical -> AND,OR,NOT\n",
    "   - Bitwise -> &&,||,>>,<<\n",
    "   - Relational -> ==,!=,>=,<=,>,<\n",
    "   - Assingment -> +=,-=,*=,/=,%=\n",
    "   - Membership -> in,not,in\n",
    "   - Identity -> is,is not"
   ]
  },
  {
   "cell_type": "code",
   "execution_count": 4,
   "id": "1c505f04",
   "metadata": {},
   "outputs": [
    {
     "name": "stdout",
     "output_type": "stream",
     "text": [
      "5\n"
     ]
    }
   ],
   "source": [
    "a=20\n",
    "print(a>>2)"
   ]
  },
  {
   "cell_type": "markdown",
   "id": "2c5b2939",
   "metadata": {},
   "source": [
    "# Conditional Statements:\n",
    "  - To check whether a given condition is either true or false\n",
    "  - if,nested if,if-else,elif ladder"
   ]
  },
  {
   "cell_type": "markdown",
   "id": "1080aaab",
   "metadata": {},
   "source": [
    "# If -> Single Case[T or F]\n",
    "   \n",
    "   Syntax:\n",
    "   \n",
    "       if (condition): \n",
    "     \n",
    "       //stmnt"
   ]
  },
  {
   "cell_type": "code",
   "execution_count": 5,
   "id": "06584ed2",
   "metadata": {},
   "outputs": [
    {
     "name": "stdout",
     "output_type": "stream",
     "text": [
      "45\n",
      "Entered Value is: 45\n"
     ]
    }
   ],
   "source": [
    "n = int(input())\n",
    "if n == 45:\n",
    "    print(\"Entered Value is: {}\".format(n))"
   ]
  },
  {
   "cell_type": "markdown",
   "id": "59f7fa73",
   "metadata": {},
   "source": [
    "# If-else -> Two Cases[T or F]\n",
    "   \n",
    "  Syntax:\n",
    "      \n",
    "      if(condition-1):\n",
    "         //True Statement\n",
    "      else:\n",
    "         //False Statement"
   ]
  },
  {
   "cell_type": "code",
   "execution_count": 6,
   "id": "66403d48",
   "metadata": {},
   "outputs": [
    {
     "name": "stdout",
     "output_type": "stream",
     "text": [
      "26\n",
      "24\n",
      "Entered value 26 is not equal to 24\n"
     ]
    }
   ],
   "source": [
    "k = int(input())\n",
    "m = int(input())\n",
    "if k == m:\n",
    "    print(\"Entered values {} and {} are Equal\".format(k,m))\n",
    "else:\n",
    "    print(\"Entered value {} is not equal to {}\".format(k,m))"
   ]
  },
  {
   "cell_type": "markdown",
   "id": "730786e6",
   "metadata": {},
   "source": [
    "## Nested if[if within an if] -> one or more cases\n",
    "\n",
    "Syntax:\n",
    "    \n",
    "    if (condition-1):\n",
    "       \n",
    "       if(condition-2):\n",
    "           \n",
    "           //stmnt-1\n",
    "            \n",
    "    if (condition-1):\n",
    "        if(condition-2):\n",
    "            //stmnt-1\n",
    "        else:\n",
    "            //stmnt-2\n",
    "    else:\n",
    "        //stmnt-3"
   ]
  },
  {
   "cell_type": "code",
   "execution_count": 7,
   "id": "683e2944",
   "metadata": {},
   "outputs": [
    {
     "name": "stdout",
     "output_type": "stream",
     "text": [
      "100\n",
      "Entered Value 100 is equal to 100\n"
     ]
    }
   ],
   "source": [
    "n = int(input())\n",
    "if (n<=200):\n",
    "    if (n==100):\n",
    "        print(\"Entered Value {} is equal to 100\".format(n))\n",
    "    else:\n",
    "        print(\"Entered Value {} is not equal to 100 but it is lower than 200\".format(n))\n",
    "else:\n",
    "    print(\"Entered Value {} is greater than 200\".format(n))"
   ]
  },
  {
   "cell_type": "markdown",
   "id": "ba03f2e7",
   "metadata": {},
   "source": [
    "# Elif -> Two or n more cases\n",
    "\n",
    "Syntax:\n",
    "     \n",
    "     if (condition-1):\n",
    "          //stmnt-1\n",
    "     elif (condition-2):\n",
    "         //stmnt-2\n",
    "     elif (condition-n):\n",
    "         //stmnt-n\n",
    "         | | | | |\n",
    "     else:\n",
    "         //stmnt-(n-1)"
   ]
  },
  {
   "cell_type": "code",
   "execution_count": 8,
   "id": "2521a392",
   "metadata": {},
   "outputs": [
    {
     "name": "stdout",
     "output_type": "stream",
     "text": [
      "30\n",
      "Entered Value 30 is divisble by 2 and 4\n"
     ]
    }
   ],
   "source": [
    "h = int(input())\n",
    "if h%4 == 0:\n",
    "    print(\"Entered Value {} is divisible by 4\".format(h))\n",
    "elif h%2 == 0 & h%4 == 0:\n",
    "    print(\"Entered Value {} is divisble by 2 and 4\".format(h))\n",
    "elif h%2 == 0:\n",
    "    print(\"Entered Value {} is divisible by 2\".format(h))\n",
    "else:\n",
    "    print(\"Entered Value {} is Not divisible by 2\".format(h))"
   ]
  },
  {
   "cell_type": "markdown",
   "id": "8877a00e",
   "metadata": {},
   "source": [
    "# Control Statements,Iterations,Loops,Repetition\n",
    "\n",
    "  - To controlthe flow of execution \n",
    "  - For,while"
   ]
  },
  {
   "cell_type": "markdown",
   "id": "836c47d8",
   "metadata": {},
   "source": [
    "# For -> For particular Range => [Know Ranges]\n",
    "\n",
    "Syntax:\n",
    "    \n",
    "    for iteration_variable in iterator:\n",
    "        //stmnts\n",
    "        \n",
    "    for iteration_variable in range():\n",
    "        //stmnts"
   ]
  },
  {
   "cell_type": "markdown",
   "id": "24d36cb6",
   "metadata": {},
   "source": [
    "# Range\n",
    "\n",
    "            range(n):\n",
    "                -> By default it starts from 0 to n-1\n",
    "                => range(5) => 0,1,2,3,4\n",
    "            range(n,m):\n",
    "                -> Start range will starts from exactly at n and stops at m-1\n",
    "                => range(4,8) => 4,5,6,7\n",
    "            range(n,m,s):\n",
    "                -> Start range will starts from exactly at n and stops at m-1 and stepping to s\n",
    "                => range(4,10,2) => 4,6,8"
   ]
  },
  {
   "cell_type": "code",
   "execution_count": 9,
   "id": "e2b3fa1a",
   "metadata": {},
   "outputs": [
    {
     "name": "stdout",
     "output_type": "stream",
     "text": [
      "Enter a range value: 10\n",
      "0,1,2,3,4,5,6,7,8,9,"
     ]
    }
   ],
   "source": [
    "n = int(input(\"Enter a range value: \"))\n",
    "for b in range(n):\n",
    "    print(b,end=\",\")"
   ]
  },
  {
   "cell_type": "code",
   "execution_count": 11,
   "id": "e7dfcc39",
   "metadata": {},
   "outputs": [
    {
     "name": "stdout",
     "output_type": "stream",
     "text": [
      "Enter a starting range value: 100\n",
      "Enter a ending range value: 120\n",
      "100,101,102,103,104,105,106,107,108,109,110,111,112,113,114,115,116,117,118,119,"
     ]
    }
   ],
   "source": [
    "n = int(input(\"Enter a starting range value: \"))\n",
    "m = int(input(\"Enter a ending range value: \"))\n",
    "for b in range(n,m):\n",
    "    print(b,end=\",\")"
   ]
  },
  {
   "cell_type": "code",
   "execution_count": 12,
   "id": "b8f4372b",
   "metadata": {},
   "outputs": [
    {
     "name": "stdout",
     "output_type": "stream",
     "text": [
      "Enter a starting range value: 100\n",
      "Enter a Ending range value: 300\n",
      "Enter a stepping value: 50\n",
      "100,150,200,250,"
     ]
    }
   ],
   "source": [
    "n = int(input(\"Enter a starting range value: \"))\n",
    "m = int(input(\"Enter a Ending range value: \"))\n",
    "s = int(input(\"Enter a stepping value: \"))\n",
    "for b in range(n,m,s):\n",
    "    print(b,end=\",\")"
   ]
  },
  {
   "cell_type": "code",
   "execution_count": 13,
   "id": "fb37720f",
   "metadata": {},
   "outputs": [
    {
     "name": "stdout",
     "output_type": "stream",
     "text": [
      "Enter a starting range value: 2\n",
      "Enter a Ending range value: 10\n",
      "Enter a stepping value: 2\n",
      "10,8,6,4,"
     ]
    }
   ],
   "source": [
    "n = int(input(\"Enter a starting range value: \"))\n",
    "m = int(input(\"Enter a Ending range value: \"))\n",
    "s = int(input(\"Enter a stepping value: \"))\n",
    "for b in range(m,n,-s):\n",
    "    print(b,end=\",\")"
   ]
  },
  {
   "cell_type": "code",
   "execution_count": null,
   "id": "5102809a",
   "metadata": {},
   "outputs": [],
   "source": []
  }
 ],
 "metadata": {
  "kernelspec": {
   "display_name": "Python 3",
   "language": "python",
   "name": "python3"
  },
  "language_info": {
   "codemirror_mode": {
    "name": "ipython",
    "version": 3
   },
   "file_extension": ".py",
   "mimetype": "text/x-python",
   "name": "python",
   "nbconvert_exporter": "python",
   "pygments_lexer": "ipython3",
   "version": "3.7.6"
  }
 },
 "nbformat": 4,
 "nbformat_minor": 5
}
