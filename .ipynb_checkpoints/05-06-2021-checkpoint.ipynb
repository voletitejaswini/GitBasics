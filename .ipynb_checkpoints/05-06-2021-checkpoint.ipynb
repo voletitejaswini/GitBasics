{
 "cells": [
  {
   "cell_type": "markdown",
   "id": "e0d0422b",
   "metadata": {},
   "source": [
    "# Files, Packages and Modules"
   ]
  },
  {
   "cell_type": "markdown",
   "id": "f0e600d1",
   "metadata": {},
   "source": [
    " # Files\n",
    "\n",
    "\n",
    "- To store values or data permanently\n",
    "- File format .py,.txt etc.\n",
    "- Modes:\n",
    "    - Read --> if file doesn't exist, it displays an error. If file exists, it reads the data(-r)\n",
    "    - Write --> if file doesn't exist, it creates a file with userdefined file name. If file exists it writes to a file. Previous data will be erased and new data is created.(-w)\n",
    "    - Append --> if file doesn't exists, it creates a file with userdefined filename. If the file exists, it writes to a file and it will add new data for existing ones(-a)\n",
    "    - Execute --> If the file is not exist, new file is created"
   ]
  },
  {
   "cell_type": "code",
   "execution_count": 1,
   "id": "84ae93e4",
   "metadata": {},
   "outputs": [],
   "source": [
    "# write mode\n",
    "# creating a file in raw data folder\n",
    "# sample.text is created\n",
    "with open('Raw Data/sample.text','w') as ft:\n",
    "    ft.write(\"Hello this is Raw Data folder\")"
   ]
  },
  {
   "cell_type": "code",
   "execution_count": 3,
   "id": "56420f7d",
   "metadata": {},
   "outputs": [
    {
     "name": "stdout",
     "output_type": "stream",
     "text": [
      "Hello this is Raw Data folder\n"
     ]
    }
   ],
   "source": [
    "with open('Raw Data/sample.text','r') as fr:\n",
    "    print(fr.read())"
   ]
  },
  {
   "cell_type": "code",
   "execution_count": 4,
   "id": "709d4849",
   "metadata": {},
   "outputs": [],
   "source": [
    "with open('Raw Data/sample.text','a') as fa:\n",
    "    fa.write(\"\\nWelcome to APSSDC programs\")"
   ]
  },
  {
   "cell_type": "code",
   "execution_count": 5,
   "id": "d69a205e",
   "metadata": {},
   "outputs": [
    {
     "name": "stdout",
     "output_type": "stream",
     "text": [
      "Enter a range: 4\n",
      "Enter a name: sou\n",
      "Enter a name: puji\n",
      "Enter a name: gaya\n",
      "Enter a name: niha\n"
     ]
    }
   ],
   "source": [
    "with open('Raw Data/Names.csv','w') as y:\n",
    "    n = int(input(\"Enter a range: \"))\n",
    "    for j in range(1,n+1):\n",
    "        m = input(\"Enter a name: \")\n",
    "        y.write(m+\"\\n\")"
   ]
  },
  {
   "cell_type": "code",
   "execution_count": 6,
   "id": "04d4e35d",
   "metadata": {},
   "outputs": [
    {
     "name": "stdout",
     "output_type": "stream",
     "text": [
      "['_CHUNK_SIZE', '__class__', '__del__', '__delattr__', '__dict__', '__dir__', '__doc__', '__enter__', '__eq__', '__exit__', '__format__', '__ge__', '__getattribute__', '__getstate__', '__gt__', '__hash__', '__init__', '__init_subclass__', '__iter__', '__le__', '__lt__', '__ne__', '__new__', '__next__', '__reduce__', '__reduce_ex__', '__repr__', '__setattr__', '__sizeof__', '__str__', '__subclasshook__', '_checkClosed', '_checkReadable', '_checkSeekable', '_checkWritable', '_finalizing', 'buffer', 'close', 'closed', 'detach', 'encoding', 'errors', 'fileno', 'flush', 'isatty', 'line_buffering', 'mode', 'name', 'newlines', 'read', 'readable', 'readline', 'readlines', 'reconfigure', 'seek', 'seekable', 'tell', 'truncate', 'writable', 'write', 'write_through', 'writelines']\n"
     ]
    }
   ],
   "source": [
    "print(dir(y))"
   ]
  },
  {
   "cell_type": "code",
   "execution_count": 7,
   "id": "dc92ac79",
   "metadata": {},
   "outputs": [
    {
     "name": "stdout",
     "output_type": "stream",
     "text": [
      "sou\n",
      "\n"
     ]
    }
   ],
   "source": [
    "with open('Raw Data/Names.csv','r') as k:\n",
    "    print(k.readline())"
   ]
  },
  {
   "cell_type": "code",
   "execution_count": 8,
   "id": "8b8c9072",
   "metadata": {},
   "outputs": [
    {
     "name": "stdout",
     "output_type": "stream",
     "text": [
      "['sou\\n', 'puji\\n', 'gaya\\n', 'niha\\n']\n"
     ]
    }
   ],
   "source": [
    "with open('Raw Data/Names.csv','r') as k:\n",
    "    print(k.readlines())"
   ]
  },
  {
   "cell_type": "code",
   "execution_count": 9,
   "id": "5fb778d8",
   "metadata": {},
   "outputs": [
    {
     "name": "stdout",
     "output_type": "stream",
     "text": [
      "['sou', 'puji', 'gaya', 'niha']\n"
     ]
    }
   ],
   "source": [
    "with open('Raw Data/Names.csv','r') as k:\n",
    "    s = k.readlines()\n",
    "    q = []\n",
    "    for v in s:\n",
    "        q.append(v.split('\\n')[0])\n",
    "    print(q)"
   ]
  },
  {
   "cell_type": "code",
   "execution_count": 10,
   "id": "59e48ea1",
   "metadata": {},
   "outputs": [
    {
     "name": "stdout",
     "output_type": "stream",
     "text": [
      "Enter a range 5\n"
     ]
    }
   ],
   "source": [
    "with open('Raw Data/input.text','w') as fw:\n",
    "    fw.write(input(\"Enter a range \"))"
   ]
  },
  {
   "cell_type": "code",
   "execution_count": 14,
   "id": "692a3baa",
   "metadata": {},
   "outputs": [
    {
     "ename": "TypeError",
     "evalue": "can only concatenate str (not \"int\") to str",
     "output_type": "error",
     "traceback": [
      "\u001b[1;31m---------------------------------------------------------------------------\u001b[0m",
      "\u001b[1;31mTypeError\u001b[0m                                 Traceback (most recent call last)",
      "\u001b[1;32m<ipython-input-14-378fec141af3>\u001b[0m in \u001b[0;36m<module>\u001b[1;34m\u001b[0m\n\u001b[0;32m      4\u001b[0m         \u001b[0mwy\u001b[0m\u001b[1;33m.\u001b[0m\u001b[0mwrite\u001b[0m\u001b[1;33m(\u001b[0m\u001b[1;34m\"Entered number is: {}\\n\"\u001b[0m\u001b[1;33m.\u001b[0m\u001b[0mformat\u001b[0m\u001b[1;33m(\u001b[0m\u001b[0mf\u001b[0m\u001b[1;33m[\u001b[0m\u001b[1;36m0\u001b[0m\u001b[1;33m]\u001b[0m\u001b[1;33m)\u001b[0m\u001b[1;33m)\u001b[0m\u001b[1;33m\u001b[0m\u001b[1;33m\u001b[0m\u001b[0m\n\u001b[0;32m      5\u001b[0m         \u001b[0mx\u001b[0m \u001b[1;33m=\u001b[0m \u001b[1;33m[\u001b[0m\u001b[1;33m]\u001b[0m\u001b[1;33m\u001b[0m\u001b[1;33m\u001b[0m\u001b[0m\n\u001b[1;32m----> 6\u001b[1;33m         \u001b[1;32mfor\u001b[0m \u001b[0mn\u001b[0m \u001b[1;32min\u001b[0m \u001b[0mrange\u001b[0m\u001b[1;33m(\u001b[0m\u001b[1;36m1\u001b[0m\u001b[1;33m,\u001b[0m\u001b[0mint\u001b[0m\u001b[1;33m(\u001b[0m\u001b[0mf\u001b[0m\u001b[1;33m[\u001b[0m\u001b[1;36m0\u001b[0m\u001b[1;33m]\u001b[0m\u001b[1;33m+\u001b[0m\u001b[1;36m1\u001b[0m\u001b[1;33m)\u001b[0m\u001b[1;33m)\u001b[0m\u001b[1;33m:\u001b[0m\u001b[1;33m\u001b[0m\u001b[1;33m\u001b[0m\u001b[0m\n\u001b[0m\u001b[0;32m      7\u001b[0m             \u001b[1;32mif\u001b[0m \u001b[0mn\u001b[0m\u001b[1;33m%\u001b[0m\u001b[1;36m2\u001b[0m\u001b[1;33m==\u001b[0m\u001b[1;36m0\u001b[0m\u001b[1;33m:\u001b[0m\u001b[1;33m\u001b[0m\u001b[1;33m\u001b[0m\u001b[0m\n\u001b[0;32m      8\u001b[0m                 \u001b[0mh\u001b[0m \u001b[1;33m=\u001b[0m \u001b[0mstr\u001b[0m\u001b[1;33m(\u001b[0m\u001b[0mn\u001b[0m\u001b[1;33m)\u001b[0m\u001b[1;33m+\u001b[0m\u001b[1;34m\",\"\u001b[0m\u001b[1;33m\u001b[0m\u001b[1;33m\u001b[0m\u001b[0m\n",
      "\u001b[1;31mTypeError\u001b[0m: can only concatenate str (not \"int\") to str"
     ]
    }
   ],
   "source": [
    "with open('Raw Data/input.text','r') as g:\n",
    "    f = g.readlines()\n",
    "    with open('Raw Data\\output.text','w') as wy:\n",
    "        wy.write(\"Entered number is: {}\\n\".format(f[0]))\n",
    "        x = []\n",
    "        for n in range(1,int(f[0]+1)):\n",
    "            if n%2==0:\n",
    "                h = str(n)+\",\"\n",
    "                x.append(h)\n",
    "        t = \" \".join(x)\n",
    "        wy.write(\"Even number is range {} is: {}\".format(f[0],x))"
   ]
  },
  {
   "cell_type": "code",
   "execution_count": null,
   "id": "9f73b7aa",
   "metadata": {},
   "outputs": [],
   "source": []
  }
 ],
 "metadata": {
  "kernelspec": {
   "display_name": "Python 3",
   "language": "python",
   "name": "python3"
  },
  "language_info": {
   "codemirror_mode": {
    "name": "ipython",
    "version": 3
   },
   "file_extension": ".py",
   "mimetype": "text/x-python",
   "name": "python",
   "nbconvert_exporter": "python",
   "pygments_lexer": "ipython3",
   "version": "3.7.6"
  }
 },
 "nbformat": 4,
 "nbformat_minor": 5
}
