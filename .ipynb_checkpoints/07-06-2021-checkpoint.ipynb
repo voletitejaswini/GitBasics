{
 "cells": [
  {
   "cell_type": "markdown",
   "id": "33e36995",
   "metadata": {},
   "source": [
    "# Packages and Modules"
   ]
  },
  {
   "cell_type": "markdown",
   "id": "07c9a83e",
   "metadata": {},
   "source": [
    "## Package\n",
    "\n",
    "- Folder - No of files or no of folders\n",
    "- Package => Folder\n",
    "          => No of folders or files\n",
    "- module => Files [.py]\n",
    "         => Collection of class,methods,functions,variables"
   ]
  },
  {
   "cell_type": "code",
   "execution_count": 1,
   "id": "35f65fba",
   "metadata": {},
   "outputs": [],
   "source": [
    "import math # math is a module"
   ]
  },
  {
   "cell_type": "code",
   "execution_count": 2,
   "id": "dd98e806",
   "metadata": {},
   "outputs": [
    {
     "name": "stdout",
     "output_type": "stream",
     "text": [
      "['__doc__', '__loader__', '__name__', '__package__', '__spec__', 'acos', 'acosh', 'asin', 'asinh', 'atan', 'atan2', 'atanh', 'ceil', 'copysign', 'cos', 'cosh', 'degrees', 'e', 'erf', 'erfc', 'exp', 'expm1', 'fabs', 'factorial', 'floor', 'fmod', 'frexp', 'fsum', 'gamma', 'gcd', 'hypot', 'inf', 'isclose', 'isfinite', 'isinf', 'isnan', 'ldexp', 'lgamma', 'log', 'log10', 'log1p', 'log2', 'modf', 'nan', 'pi', 'pow', 'radians', 'remainder', 'sin', 'sinh', 'sqrt', 'tan', 'tanh', 'tau', 'trunc']\n"
     ]
    }
   ],
   "source": [
    "print(dir(math))"
   ]
  },
  {
   "cell_type": "code",
   "execution_count": 3,
   "id": "f72b1fcd",
   "metadata": {},
   "outputs": [
    {
     "name": "stdout",
     "output_type": "stream",
     "text": [
      "93326215443944152681699238856266700490715968264381621468592963895217599993229915608941463976156518286253697920827223758251185210916864000000000000000000000000\n"
     ]
    }
   ],
   "source": [
    "print(math.factorial(100))"
   ]
  },
  {
   "cell_type": "code",
   "execution_count": 1,
   "id": "d9277c6c",
   "metadata": {},
   "outputs": [],
   "source": [
    "import sample"
   ]
  },
  {
   "cell_type": "code",
   "execution_count": 2,
   "id": "4a0273ea",
   "metadata": {},
   "outputs": [
    {
     "name": "stdout",
     "output_type": "stream",
     "text": [
      "['__builtins__', '__cached__', '__doc__', '__file__', '__loader__', '__name__', '__package__', '__spec__', 'a']\n"
     ]
    }
   ],
   "source": [
    "print(dir(sample))"
   ]
  },
  {
   "cell_type": "code",
   "execution_count": 3,
   "id": "d3fd8b31",
   "metadata": {},
   "outputs": [
    {
     "name": "stdout",
     "output_type": "stream",
     "text": [
      "200\n"
     ]
    }
   ],
   "source": [
    "print(sample.a)"
   ]
  },
  {
   "cell_type": "code",
   "execution_count": 3,
   "id": "15970f65",
   "metadata": {},
   "outputs": [],
   "source": [
    "from Teju import demo"
   ]
  },
  {
   "cell_type": "code",
   "execution_count": 4,
   "id": "27627562",
   "metadata": {},
   "outputs": [
    {
     "name": "stdout",
     "output_type": "stream",
     "text": [
      "['__builtins__', '__cached__', '__doc__', '__file__', '__loader__', '__name__', '__package__', '__spec__', 'a', 'p', 'z']\n"
     ]
    }
   ],
   "source": [
    "print(dir(demo))"
   ]
  },
  {
   "cell_type": "code",
   "execution_count": 5,
   "id": "876a36b0",
   "metadata": {},
   "outputs": [
    {
     "name": "stdout",
     "output_type": "stream",
     "text": [
      "soundarya Gayathri Tejaswini\n"
     ]
    }
   ],
   "source": [
    "print(demo.a,demo.p,demo.z)"
   ]
  },
  {
   "cell_type": "code",
   "execution_count": 11,
   "id": "e516048f",
   "metadata": {},
   "outputs": [],
   "source": [
    "from Teju import demo,Details"
   ]
  },
  {
   "cell_type": "code",
   "execution_count": 12,
   "id": "87e979b3",
   "metadata": {},
   "outputs": [
    {
     "name": "stdout",
     "output_type": "stream",
     "text": [
      "Gayathri 521\n"
     ]
    }
   ],
   "source": [
    "print(demo.p,Details.a)"
   ]
  },
  {
   "cell_type": "code",
   "execution_count": 13,
   "id": "e4c12ecc",
   "metadata": {},
   "outputs": [],
   "source": [
    "from Teju.Details import b"
   ]
  },
  {
   "cell_type": "code",
   "execution_count": 14,
   "id": "da971278",
   "metadata": {},
   "outputs": [
    {
     "name": "stdout",
     "output_type": "stream",
     "text": [
      "526\n"
     ]
    }
   ],
   "source": [
    "print(b)"
   ]
  },
  {
   "cell_type": "code",
   "execution_count": 3,
   "id": "06b55aa3",
   "metadata": {},
   "outputs": [],
   "source": [
    "from Teju.CSE import first as c\n",
    "from Teju.ECE import second as e"
   ]
  },
  {
   "cell_type": "code",
   "execution_count": 7,
   "id": "ada5bc11",
   "metadata": {},
   "outputs": [
    {
     "name": "stdout",
     "output_type": "stream",
     "text": [
      "['__builtins__', '__cached__', '__doc__', '__file__', '__loader__', '__name__', '__package__', '__spec__', 'a']\n"
     ]
    }
   ],
   "source": [
    "print(dir(c))"
   ]
  },
  {
   "cell_type": "code",
   "execution_count": 8,
   "id": "eede10db",
   "metadata": {},
   "outputs": [
    {
     "name": "stdout",
     "output_type": "stream",
     "text": [
      "['__builtins__', '__cached__', '__doc__', '__file__', '__loader__', '__name__', '__package__', '__spec__', 'm']\n"
     ]
    }
   ],
   "source": [
    "print(dir(e))"
   ]
  },
  {
   "cell_type": "code",
   "execution_count": 9,
   "id": "2e2b1eaf",
   "metadata": {},
   "outputs": [
    {
     "name": "stdout",
     "output_type": "stream",
     "text": [
      "first year from cse\n",
      "i am from ece\n"
     ]
    }
   ],
   "source": [
    "print(c.a)\n",
    "print(e.m)"
   ]
  },
  {
   "cell_type": "code",
   "execution_count": null,
   "id": "44d1ea91",
   "metadata": {},
   "outputs": [],
   "source": []
  }
 ],
 "metadata": {
  "kernelspec": {
   "display_name": "Python 3",
   "language": "python",
   "name": "python3"
  },
  "language_info": {
   "codemirror_mode": {
    "name": "ipython",
    "version": 3
   },
   "file_extension": ".py",
   "mimetype": "text/x-python",
   "name": "python",
   "nbconvert_exporter": "python",
   "pygments_lexer": "ipython3",
   "version": "3.7.6"
  }
 },
 "nbformat": 4,
 "nbformat_minor": 5
}
