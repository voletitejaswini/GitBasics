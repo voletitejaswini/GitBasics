{
 "cells": [
  {
   "cell_type": "markdown",
   "id": "862eb7d4",
   "metadata": {},
   "source": [
    "# OOPS\n",
    "\n",
    "- class\n",
    "- method    #function defined inside a class\n",
    "- object\n",
    "- constuctor\n",
    "- packages and modules by using class\n",
    "- inheritance"
   ]
  },
  {
   "cell_type": "markdown",
   "id": "e130df8f",
   "metadata": {},
   "source": [
    "## Class\n",
    "\n",
    "- class isa collection of variables and methods.\n",
    "\n",
    "### Rules to define class\n",
    "\n",
    "- should not start with number\n",
    "- not to use keywords"
   ]
  },
  {
   "cell_type": "code",
   "execution_count": 1,
   "id": "b5c68615",
   "metadata": {},
   "outputs": [],
   "source": [
    "class hi:\n",
    "    name,rollno=\"vvt\",534\n",
    "    def msg():\n",
    "        print(\"hello everyone from msg()\")"
   ]
  },
  {
   "cell_type": "code",
   "execution_count": 2,
   "id": "9d335fc5",
   "metadata": {},
   "outputs": [
    {
     "data": {
      "text/plain": [
       "'vvt'"
      ]
     },
     "execution_count": 2,
     "metadata": {},
     "output_type": "execute_result"
    }
   ],
   "source": [
    "hi.name"
   ]
  },
  {
   "cell_type": "code",
   "execution_count": 3,
   "id": "98f17f3d",
   "metadata": {},
   "outputs": [
    {
     "data": {
      "text/plain": [
       "534"
      ]
     },
     "execution_count": 3,
     "metadata": {},
     "output_type": "execute_result"
    }
   ],
   "source": [
    "hi.rollno"
   ]
  },
  {
   "cell_type": "code",
   "execution_count": 4,
   "id": "fed58988",
   "metadata": {},
   "outputs": [
    {
     "name": "stdout",
     "output_type": "stream",
     "text": [
      "hello everyone from msg()\n"
     ]
    }
   ],
   "source": [
    "hi.msg()"
   ]
  },
  {
   "cell_type": "markdown",
   "id": "cfab6ba4",
   "metadata": {},
   "source": [
    "# Object\n",
    "\n",
    "- instance of a class"
   ]
  },
  {
   "cell_type": "code",
   "execution_count": 5,
   "id": "445dae0c",
   "metadata": {},
   "outputs": [],
   "source": [
    "obj = hi"
   ]
  },
  {
   "cell_type": "code",
   "execution_count": 6,
   "id": "08269419",
   "metadata": {},
   "outputs": [
    {
     "data": {
      "text/plain": [
       "534"
      ]
     },
     "execution_count": 6,
     "metadata": {},
     "output_type": "execute_result"
    }
   ],
   "source": [
    "obj.rollno"
   ]
  },
  {
   "cell_type": "code",
   "execution_count": 7,
   "id": "2d9ab1ac",
   "metadata": {},
   "outputs": [
    {
     "name": "stdout",
     "output_type": "stream",
     "text": [
      "hello everyone from msg()\n"
     ]
    }
   ],
   "source": [
    "obj.msg()"
   ]
  },
  {
   "cell_type": "code",
   "execution_count": 1,
   "id": "a9599394",
   "metadata": {},
   "outputs": [],
   "source": [
    "class Calci:\n",
    "    def add(n1,n2):\n",
    "        return n1+n2\n",
    "    def sub(n1,n2):\n",
    "        return n1-n2\n",
    "    def mul(n1,n2):\n",
    "        return n1*n2\n",
    "    def div(n1,n2):\n",
    "        return n1%n2\n",
    "    def fdiv(n1,n2):\n",
    "        return n1//n2\n",
    "    def exp(n1,n2):\n",
    "        return n1**n2"
   ]
  },
  {
   "cell_type": "code",
   "execution_count": 2,
   "id": "37e86ef6",
   "metadata": {},
   "outputs": [],
   "source": [
    "cal=Calci"
   ]
  },
  {
   "cell_type": "code",
   "execution_count": 10,
   "id": "9ce67d40",
   "metadata": {},
   "outputs": [
    {
     "data": {
      "text/plain": [
       "60"
      ]
     },
     "execution_count": 10,
     "metadata": {},
     "output_type": "execute_result"
    }
   ],
   "source": [
    "cal.add(34,26) "
   ]
  },
  {
   "cell_type": "code",
   "execution_count": 5,
   "id": "a816768c",
   "metadata": {},
   "outputs": [
    {
     "data": {
      "text/plain": [
       "5"
      ]
     },
     "execution_count": 5,
     "metadata": {},
     "output_type": "execute_result"
    }
   ],
   "source": [
    "cal.sub(26,21)"
   ]
  },
  {
   "cell_type": "code",
   "execution_count": 6,
   "id": "89f78574",
   "metadata": {},
   "outputs": [
    {
     "data": {
      "text/plain": [
       "20"
      ]
     },
     "execution_count": 6,
     "metadata": {},
     "output_type": "execute_result"
    }
   ],
   "source": [
    "cal.mul(4,5)"
   ]
  },
  {
   "cell_type": "code",
   "execution_count": 7,
   "id": "fbe3c119",
   "metadata": {},
   "outputs": [
    {
     "data": {
      "text/plain": [
       "2"
      ]
     },
     "execution_count": 7,
     "metadata": {},
     "output_type": "execute_result"
    }
   ],
   "source": [
    "cal.div(26,3)"
   ]
  },
  {
   "cell_type": "code",
   "execution_count": 8,
   "id": "6d770653",
   "metadata": {},
   "outputs": [
    {
     "data": {
      "text/plain": [
       "0"
      ]
     },
     "execution_count": 8,
     "metadata": {},
     "output_type": "execute_result"
    }
   ],
   "source": [
    "cal.fdiv(3,4) "
   ]
  },
  {
   "cell_type": "code",
   "execution_count": 9,
   "id": "e36990b3",
   "metadata": {},
   "outputs": [
    {
     "data": {
      "text/plain": [
       "19683"
      ]
     },
     "execution_count": 9,
     "metadata": {},
     "output_type": "execute_result"
    }
   ],
   "source": [
    "cal.exp(3,9)"
   ]
  },
  {
   "cell_type": "markdown",
   "id": "a1febc27",
   "metadata": {},
   "source": [
    "## Constructor \n",
    "\n",
    "- It is a special method in python i.e __init__()\n",
    "- It is executed while creating objects.\n",
    "- there are 2 types of constructors\n",
    "    - default\n",
    "    - parameterized"
   ]
  },
  {
   "cell_type": "code",
   "execution_count": 18,
   "id": "f07379f6",
   "metadata": {},
   "outputs": [],
   "source": [
    "class Hello:\n",
    "    def __init__(self):\n",
    "        print(\"This is a default constructor\")"
   ]
  },
  {
   "cell_type": "code",
   "execution_count": 20,
   "id": "2eb52dab",
   "metadata": {},
   "outputs": [
    {
     "name": "stdout",
     "output_type": "stream",
     "text": [
      "This is a default constructor\n"
     ]
    }
   ],
   "source": [
    "obj = Hello()"
   ]
  },
  {
   "cell_type": "code",
   "execution_count": 21,
   "id": "97f72fde",
   "metadata": {},
   "outputs": [],
   "source": [
    "class Hello1:\n",
    "    def __init__(fles, val1, val2):\n",
    "        print(val1, val2)"
   ]
  },
  {
   "cell_type": "code",
   "execution_count": 22,
   "id": "00b0b172",
   "metadata": {},
   "outputs": [
    {
     "name": "stdout",
     "output_type": "stream",
     "text": [
      "9 6\n"
     ]
    }
   ],
   "source": [
    "obj = Hello1(9, 6)"
   ]
  },
  {
   "cell_type": "code",
   "execution_count": 24,
   "id": "670141fa",
   "metadata": {},
   "outputs": [],
   "source": [
    "class Hello1:\n",
    "    def __init__(files, val1, val2):\n",
    "        files.val1 = val1\n",
    "        files.val2 = val2\n",
    "    def show(files):\n",
    "        print(files.val1, files.val2)\n",
    "    def add(files):\n",
    "        return files.val1 + files.val2"
   ]
  },
  {
   "cell_type": "code",
   "execution_count": 30,
   "id": "caca6ed0",
   "metadata": {
    "scrolled": true
   },
   "outputs": [
    {
     "name": "stdout",
     "output_type": "stream",
     "text": [
      "21 26\n"
     ]
    }
   ],
   "source": [
    "obj=Hello1(21,26)\n",
    "obj.show()"
   ]
  },
  {
   "cell_type": "code",
   "execution_count": 31,
   "id": "e9ae3456",
   "metadata": {},
   "outputs": [
    {
     "data": {
      "text/plain": [
       "47"
      ]
     },
     "execution_count": 31,
     "metadata": {},
     "output_type": "execute_result"
    }
   ],
   "source": [
    "obj.add()"
   ]
  },
  {
   "cell_type": "code",
   "execution_count": 2,
   "id": "89186d14",
   "metadata": {},
   "outputs": [],
   "source": [
    "from Package import mylogics"
   ]
  },
  {
   "cell_type": "code",
   "execution_count": 3,
   "id": "3845f63e",
   "metadata": {},
   "outputs": [
    {
     "data": {
      "text/plain": [
       "['Calci',\n",
       " 'MyMath',\n",
       " '__builtins__',\n",
       " '__cached__',\n",
       " '__doc__',\n",
       " '__file__',\n",
       " '__loader__',\n",
       " '__name__',\n",
       " '__package__',\n",
       " '__spec__']"
      ]
     },
     "execution_count": 3,
     "metadata": {},
     "output_type": "execute_result"
    }
   ],
   "source": [
    "dir(mylogics)"
   ]
  },
  {
   "cell_type": "code",
   "execution_count": 4,
   "id": "53b10d7c",
   "metadata": {},
   "outputs": [
    {
     "data": {
      "text/plain": [
       "True"
      ]
     },
     "execution_count": 4,
     "metadata": {},
     "output_type": "execute_result"
    }
   ],
   "source": [
    "mylogics.MyMath.isEven(34)"
   ]
  },
  {
   "cell_type": "code",
   "execution_count": 5,
   "id": "33ea8297",
   "metadata": {},
   "outputs": [],
   "source": [
    "from Package.mylogics import MyMath"
   ]
  },
  {
   "cell_type": "code",
   "execution_count": 6,
   "id": "4b044a20",
   "metadata": {},
   "outputs": [],
   "source": [
    "obj = MyMath"
   ]
  },
  {
   "cell_type": "code",
   "execution_count": 7,
   "id": "5b062817",
   "metadata": {},
   "outputs": [
    {
     "data": {
      "text/plain": [
       "True"
      ]
     },
     "execution_count": 7,
     "metadata": {},
     "output_type": "execute_result"
    }
   ],
   "source": [
    "obj.isprime(9)"
   ]
  },
  {
   "cell_type": "markdown",
   "id": "b98d1c40",
   "metadata": {},
   "source": [
    "## Inheritance\n",
    "\n",
    "- Inheriting properties from parent to child\n",
    "- Acquiring properties from one class to another\n",
    "- 5 types are there\n",
    "    + single\n",
    "    + multiple\n",
    "    + multilevel\n",
    "    + hierachical\n",
    "    + hybrid"
   ]
  },
  {
   "cell_type": "code",
   "execution_count": 2,
   "id": "40295c6c",
   "metadata": {},
   "outputs": [],
   "source": [
    "class Parent:\n",
    "    name=\"parent\"\n",
    "    value=26\n",
    "    def display():\n",
    "        print(\"This is a parent class\")\n",
    "        "
   ]
  },
  {
   "cell_type": "code",
   "execution_count": 3,
   "id": "8a620770",
   "metadata": {},
   "outputs": [],
   "source": [
    "class Child(Parent):\n",
    "    cnmae=\"sou\"\n",
    "    age=25\n",
    "    def show():\n",
    "        print(\"This is a child class\")"
   ]
  },
  {
   "cell_type": "code",
   "execution_count": 4,
   "id": "6d8b9665",
   "metadata": {},
   "outputs": [],
   "source": [
    "obj = Child"
   ]
  },
  {
   "cell_type": "code",
   "execution_count": 5,
   "id": "201a0175",
   "metadata": {},
   "outputs": [
    {
     "data": {
      "text/plain": [
       "'parent'"
      ]
     },
     "execution_count": 5,
     "metadata": {},
     "output_type": "execute_result"
    }
   ],
   "source": [
    "obj.name"
   ]
  },
  {
   "cell_type": "code",
   "execution_count": 6,
   "id": "049f1c5d",
   "metadata": {},
   "outputs": [
    {
     "name": "stdout",
     "output_type": "stream",
     "text": [
      "This is a parent class\n"
     ]
    }
   ],
   "source": [
    "obj.display()"
   ]
  },
  {
   "cell_type": "code",
   "execution_count": 7,
   "id": "5d9c4594",
   "metadata": {},
   "outputs": [
    {
     "name": "stdout",
     "output_type": "stream",
     "text": [
      "This is a child class\n"
     ]
    }
   ],
   "source": [
    "obj.show()"
   ]
  },
  {
   "cell_type": "code",
   "execution_count": null,
   "id": "4582990d",
   "metadata": {},
   "outputs": [],
   "source": []
  }
 ],
 "metadata": {
  "kernelspec": {
   "display_name": "Python 3",
   "language": "python",
   "name": "python3"
  },
  "language_info": {
   "codemirror_mode": {
    "name": "ipython",
    "version": 3
   },
   "file_extension": ".py",
   "mimetype": "text/x-python",
   "name": "python",
   "nbconvert_exporter": "python",
   "pygments_lexer": "ipython3",
   "version": "3.7.6"
  }
 },
 "nbformat": 4,
 "nbformat_minor": 5
}
