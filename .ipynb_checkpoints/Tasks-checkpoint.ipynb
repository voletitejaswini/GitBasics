{
 "cells": [
  {
   "cell_type": "code",
   "execution_count": 1,
   "id": "7e16c3a7",
   "metadata": {},
   "outputs": [
    {
     "name": "stdout",
     "output_type": "stream",
     "text": [
      "123fse$ds3wf\n",
      "Given string is:  123fse$ds3wf\n",
      "Alphabets in  123fse$ds3wf is:  f s e d s w f\n",
      "Digits in  123fse$ds3wf is:  1 2 3 3\n",
      "Special characters in 123fse$ds3wf is:  $\n"
     ]
    }
   ],
   "source": [
    "x = input()\n",
    "print(\"Given string is: \",x)\n",
    "l1=[]\n",
    "l2=[]\n",
    "l3=[]\n",
    "for i in x:\n",
    "    if(i.isalpha()):\n",
    "        l1.append(i)\n",
    "    elif(i.isdigit()):\n",
    "        l2.append(i)\n",
    "    else:\n",
    "        l3.append(i)\n",
    "a = \" \".join(l1)\n",
    "b = \" \".join(l2)\n",
    "c = \" \".join(l3)\n",
    "print(\"Alphabets in \",x,\"is: \",a)\n",
    "print(\"Digits in \",x,\"is: \",b)\n",
    "print(\"Special characters in\",x,\"is: \",c)"
   ]
  },
  {
   "cell_type": "code",
   "execution_count": 2,
   "id": "67007b48",
   "metadata": {},
   "outputs": [
    {
     "name": "stdout",
     "output_type": "stream",
     "text": [
      "1.Enter new record \n",
      " 2.Display all records \n",
      " 3.Update record \n",
      " 4.Delete record\n",
      "Select any option from above for Contact Application: 1\n",
      "Dictionary is empty! Enter no. of records you want to create: 4\n",
      "Enter your name: soundarya\n",
      "Enter your mobile number: 1234567890\n",
      "Enter your name: gayathri\n",
      "Enter your mobile number: 7951460143\n",
      "Enter your name: pujitha\n",
      "Enter your mobile number: 8945621307\n",
      "Enter your name: niharika\n",
      "Enter your mobile number: 9876543210\n",
      "Details Saved successfully...\n",
      "Entered records are: \n",
      "Name \tmobile number\n",
      "gayathri \t 7951460143\n",
      "niharika \t 9876543210\n",
      "pujitha \t 8945621307\n",
      "soundarya \t 1234567890\n",
      "Press 2 to display records\n",
      "Press 3 to update a record\n",
      "Press 4 to delete record\n",
      "Enter your Choice: 2\n",
      "Displaying Records...\n",
      "Name \tmobile number\n",
      "gayathri \t 7951460143\n",
      "niharika \t 9876543210\n",
      "pujitha \t 8945621307\n",
      "soundarya \t 1234567890\n"
     ]
    }
   ],
   "source": [
    "print(\"1.Enter new record \\n 2.Display all records \\n 3.Update record \\n 4.Delete record\")\n",
    "n = int(input(\"Select any option from above for Contact Application: \"))\n",
    "d1={}\n",
    "d2={}\n",
    "if(n==1 or n==3):\n",
    "    m1 = int(input(\"Dictionary is empty! Enter no. of records you want to create: \"))\n",
    "    for i in range(1, m1+1):\n",
    "        name = input(\"Enter your name: \")\n",
    "        if name in d1:\n",
    "            print(name,\"Already exists\")\n",
    "        else:\n",
    "            num = int(input(\"Enter your mobile number: \"))\n",
    "            d1[name] = num\n",
    "    print(\"Details Saved successfully...\")\n",
    "    print(\"Entered records are: \")\n",
    "    print(\"Name \\tmobile number\")\n",
    "    for name,num in sorted(d1.items()):\n",
    "        print(name,\"\\t\",num)\n",
    "    print(\"Press 2 to display records\\nPress 3 to update a record\\nPress 4 to delete record\")\n",
    "    m = int(input(\"Enter your Choice: \"))\n",
    "    if(m==2):\n",
    "        print(\"Displaying Records...\")\n",
    "        print(\"Name \\tmobile number\")\n",
    "        for name,num in sorted(d1.items()):\n",
    "            print(name,\"\\t\",num)\n",
    "    elif(m==3):\n",
    "        name = input(\"Enter your name: \")\n",
    "        if name in d1:\n",
    "            print(name,\"Record already exists.\")\n",
    "        else:\n",
    "            num = int(input(\"Enter your mobile number: \"))\n",
    "            d2[name] = num\n",
    "            d1.update(d2)\n",
    "            print(\"Record successfully Updated...\")\n",
    "        print(\"After updation, the records are: \")\n",
    "        print(\"Name \\tmobile number\")\n",
    "        for name,num in sorted(d1.items()):\n",
    "            print(name,\"\\t\",num)\n",
    "    elif(m==4):\n",
    "        name1 = input(\"Enter a name to delete in the record: \")\n",
    "        if name1 in d1:\n",
    "            d1.pop(name1)\n",
    "            print(\"record deleted..\")\n",
    "            print(\"After deletion, the records are: \")\n",
    "            print(\"Name \\tmobile number\")\n",
    "            for name,num in sorted(d1.items()):\n",
    "                print(name,\"\\t\",num)\n",
    "        else:\n",
    "            print(\"Name doesn't exist\")\n",
    "elif(n==2 or n==4):\n",
    "    print(\"Empty record\")\n",
    "else:\n",
    "    print(\"Please enter a right option\")"
   ]
  },
  {
   "cell_type": "code",
   "execution_count": 3,
   "id": "a8b1b640",
   "metadata": {},
   "outputs": [
    {
     "name": "stdout",
     "output_type": "stream",
     "text": [
      "Enter first value: 5\n",
      "Enter second value: 9\n",
      "The given numbers are 5 and 9 and its addition is : 14\n",
      "The given numbers are 5 and 9 and its subtraction is : -4\n",
      "The given numbers are 5 and 9 and its multiplication is : 45\n",
      "The given numbers are 5 and 9 and its division is : 0.5555555555555556\n"
     ]
    }
   ],
   "source": [
    "from APSSDC.Calci import add as a \n",
    "from APSSDC.Calci import sub as s \n",
    "from APSSDC.Calci import mul as m \n",
    "from APSSDC.Calci import div as d \n",
    "\n",
    "x = int(input(\"Enter first value: \"))\n",
    "y = int(input(\"Enter second value: \"))\n",
    "z1 = a.add(x,y) \n",
    "z2 = s.sub(x,y) \n",
    "z3 = m.mul(x,y) \n",
    "z4 = d.div(x,y) \n",
    "print(\"The given numbers are {} and {} and its addition is : {}\".format(x,y,z1))\n",
    "print(\"The given numbers are {} and {} and its subtraction is : {}\".format(x,y,z2))\n",
    "print(\"The given numbers are {} and {} and its multiplication is : {}\".format(x,y,z3))\n",
    "print(\"The given numbers are {} and {} and its division is : {}\".format(x,y,z4))\n",
    "\n",
    "\n"
   ]
  },
  {
   "cell_type": "code",
   "execution_count": null,
   "id": "985bfa75",
   "metadata": {},
   "outputs": [],
   "source": []
  }
 ],
 "metadata": {
  "kernelspec": {
   "display_name": "Python 3",
   "language": "python",
   "name": "python3"
  },
  "language_info": {
   "codemirror_mode": {
    "name": "ipython",
    "version": 3
   },
   "file_extension": ".py",
   "mimetype": "text/x-python",
   "name": "python",
   "nbconvert_exporter": "python",
   "pygments_lexer": "ipython3",
   "version": "3.7.6"
  }
 },
 "nbformat": 4,
 "nbformat_minor": 5
}
